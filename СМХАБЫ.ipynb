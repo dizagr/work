{
 "cells": [
  {
   "cell_type": "code",
   "execution_count": 380,
   "metadata": {},
   "outputs": [],
   "source": [
    "import pandas as pd"
   ]
  },
  {
   "cell_type": "code",
   "execution_count": 381,
   "metadata": {},
   "outputs": [],
   "source": [
    "df=pd.read_csv('/Users/zagranichnyid/Downloads/Статистика_по_публикациям_2023_03_17.csv')"
   ]
  },
  {
   "cell_type": "code",
   "execution_count": 382,
   "metadata": {},
   "outputs": [],
   "source": [
    "df2=df1.str.split(',',expand=True)"
   ]
  },
  {
   "cell_type": "code",
   "execution_count": 383,
   "metadata": {},
   "outputs": [],
   "source": [
    "df_hub1=df2[0]\n",
    "df_hub2=df2[1]\n",
    "df_hub3=df2[2]\n",
    "df_hub4=df2[3]\n",
    "df_hub5=df2[4]"
   ]
  },
  {
   "cell_type": "code",
   "execution_count": 384,
   "metadata": {},
   "outputs": [],
   "source": [
    "df_hubs_concat=pd.concat([df_hub1, df_hub2, df_hub3, df_hub4, df_hub5],ignore_index=True)\n",
    "df_hubs_counts=df_hubs_concat.value_counts(dropna=True)\n",
    "df_hubs_counts=pd.DataFrame(df_hubs_counts)\n",
    "df4=df_hubs_counts.reset_index()\n",
    "df5=df4.rename(columns={'index':'Хаб', 0:'Кол-во упоминаний'})\n"
   ]
  },
  {
   "cell_type": "code",
   "execution_count": 385,
   "metadata": {},
   "outputs": [],
   "source": [
    "df6=df5[(~df5.Хаб.str.contains('999'))&\n",
    "        (~df5.Хаб.str.contains('999'))&\n",
    "        (~df5.Хаб.str.contains('999'))&\n",
    "        (~df5.Хаб.str.contains('999'))&\n",
    "        (~df5.Хаб.str.contains('999'))&\n",
    "        (~df5.Хаб.str.contains('999'))&\n",
    "        (~df5.Хаб.str.contains('999'))&\n",
    "        (~df5.Хаб.str.contains('999'))&\n",
    "        (~df5.Хаб.str.contains('999'))&\n",
    "        (~df5.Хаб.str.contains('999'))&\n",
    "        (~df5.Хаб.str.contains('999'))&\n",
    "        (~df5.Хаб.str.contains('999'))&\n",
    "        (~df5.Хаб.str.contains('999'))&\n",
    "        (~df5.Хаб.str.contains('999'))&\n",
    "        (~df5.Хаб.str.contains('999'))\n",
    "        ]\n",
    "fin=df6.head(10)"
   ]
  },
  {
   "cell_type": "code",
   "execution_count": 386,
   "metadata": {},
   "outputs": [],
   "source": [
    "fin.to_csv('/Users/zagranichnyid/Downloads/fin.csv')"
   ]
  }
 ],
 "metadata": {
  "kernelspec": {
   "display_name": "base",
   "language": "python",
   "name": "python3"
  },
  "language_info": {
   "codemirror_mode": {
    "name": "ipython",
    "version": 3
   },
   "file_extension": ".py",
   "mimetype": "text/x-python",
   "name": "python",
   "nbconvert_exporter": "python",
   "pygments_lexer": "ipython3",
   "version": "3.9.12"
  },
  "orig_nbformat": 4,
  "vscode": {
   "interpreter": {
    "hash": "2b26f4b056ef6d0bdea923a515b7b8444ebeb7ee0ffeb464dbed1382642c5338"
   }
  }
 },
 "nbformat": 4,
 "nbformat_minor": 2
}
