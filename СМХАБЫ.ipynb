import pandas as pd #импорт библиотеки

df=pd.read_csv('/.../... .csv') #путь к файлу и название файла (указать путь и название)

df2=df['hubs'].str.split(',',expand=True) #разбивка hubs по столбцам

a='Обработка изображений'
b='Алгоритмы'
c='Машинное обучение'
d='Программирование'
e='Искусственный интеллект'
f='Математика'
g='Разработка мобильных приложений'
h='Программирование микроконтроллеров'
i='Разработка под iOS'
j='C+'

df1=df[(df.hubs.str.contains(a))|
        (df.hubs.str.contains(b))|
        (df.hubs.str.contains(c))|
        (df.hubs.str.contains(d))|
        (df.hubs.str.contains(e))|
        (df.hubs.str.contains(f))|
        (df.hubs.str.contains(g))|
        (df.hubs.str.contains(h))|
        (df.hubs.str.contains(i))|
        (df.hubs.str.contains(j))
        ]

df2=df1['hubs'].str.split(',',expand=True)

df_hub1=df2[0]
df_hub2=df2[1]
df_hub3=df2[2]
df_hub4=df2[3]
df_hub5=df2[4]

df_hubs_concat=pd.concat([df_hub1, df_hub2, df_hub3, df_hub4, df_hub5],ignore_index=True)
df_hubs_counts=df_hubs_concat.value_counts(dropna=True)
df_hubs_counts=pd.DataFrame(df_hubs_counts)
df4=df_hubs_counts.reset_index()
df5=df4.rename(columns={'index':'Хаб', 0:'Кол-во упоминаний'})

df6=df5[(~df5.Хаб.str.contains(a))&
        (~df5.Хаб.str.contains(b))&
        (~df5.Хаб.str.contains(c))&
        (~df5.Хаб.str.contains(d))&
        (~df5.Хаб.str.contains(e))&
        (~df5.Хаб.str.contains(f))&
        (~df5.Хаб.str.contains(g))&
        (~df5.Хаб.str.contains(h))&
        (~df5.Хаб.str.contains(i))&
        (~df5.Хаб.str.contains(j))
        ]
fin=df6.head(10)

fin.to_csv('/.../fin.csv') #сохранение csv файла (указать путь)
