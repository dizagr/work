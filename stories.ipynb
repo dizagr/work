{
 "cells": [
  {
   "cell_type": "code",
   "execution_count": 35,
   "metadata": {},
   "outputs": [],
   "source": [
    "import pandas as pd"
   ]
  },
  {
   "cell_type": "code",
   "execution_count": 40,
   "metadata": {},
   "outputs": [],
   "source": [
    "df=pd.read_csv('/Users/zagranichnyid/Downloads/Статистика_по_публикациям_2023_03_17-2.csv')\n",
    "df1=df[df.author_type.str.match('corporative')].reset_index()\n",
    "df1.insert(4,'link', 'NaN')"
   ]
  },
  {
   "cell_type": "code",
   "execution_count": 43,
   "metadata": {},
   "outputs": [],
   "source": [
    "df2=df1[['time_published',\n",
    "         'lang',\n",
    "         'title',\n",
    "         'link',\n",
    "         'is_published',\n",
    "         'post_type',\n",
    "         'is_tutorial',\n",
    "         'score',\n",
    "         'favorites_count',\n",
    "         'comments_count',\n",
    "         'total_views',\n",
    "         'author',\n",
    "         'author_type',\n",
    "         'hubs',\n",
    "         'flows']]\n",
    "score_top=df2.sort_values('score',ascending=False).head(7)\n",
    "views_top=df2.sort_values('total_views',ascending=False).head(7)\n",
    "\n"
   ]
  },
  {
   "cell_type": "code",
   "execution_count": 44,
   "metadata": {},
   "outputs": [],
   "source": [
    "score_top.to_csv('/Users/zagranichnyid/Downloads/score_top.csv')\n",
    "views_top.to_csv('/Users/zagranichnyid/Downloads/views_top.csv')"
   ]
  }
 ],
 "metadata": {
  "kernelspec": {
   "display_name": "base",
   "language": "python",
   "name": "python3"
  },
  "language_info": {
   "codemirror_mode": {
    "name": "ipython",
    "version": 3
   },
   "file_extension": ".py",
   "mimetype": "text/x-python",
   "name": "python",
   "nbconvert_exporter": "python",
   "pygments_lexer": "ipython3",
   "version": "3.9.12"
  },
  "orig_nbformat": 4
 },
 "nbformat": 4,
 "nbformat_minor": 2
}
